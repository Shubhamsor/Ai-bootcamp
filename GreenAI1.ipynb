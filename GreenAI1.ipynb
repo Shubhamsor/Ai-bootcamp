{
 "cells": [
  {
   "cell_type": "code",
   "execution_count": 1,
   "id": "4d8523f0-df4d-4da7-b784-f0bc446f36bb",
   "metadata": {},
   "outputs": [],
   "source": [
    "mylist={'shubham','1234'}"
   ]
  },
  {
   "cell_type": "code",
   "execution_count": 2,
   "id": "fd1df719-16f1-4e7b-a0c0-955febafaca3",
   "metadata": {},
   "outputs": [
    {
     "name": "stdout",
     "output_type": "stream",
     "text": [
      "{'1234', 'shubham'}\n"
     ]
    }
   ],
   "source": [
    "print(mylist)"
   ]
  },
  {
   "cell_type": "code",
   "execution_count": 6,
   "id": "28e745a1-5381-4809-ba34-ca4c16a565ac",
   "metadata": {},
   "outputs": [
    {
     "name": "stdout",
     "output_type": "stream",
     "text": [
      "{'y', 'x'}\n"
     ]
    }
   ],
   "source": [
    "list2={\"x\",\"y\"}\n",
    "print(list2)"
   ]
  },
  {
   "cell_type": "code",
   "execution_count": 7,
   "id": "359d2426-1c41-479f-a1f2-ae58d30a3e75",
   "metadata": {},
   "outputs": [
    {
     "name": "stdout",
     "output_type": "stream",
     "text": [
      "<class 'str'>\n"
     ]
    }
   ],
   "source": [
    "str1 = \"ICEEM\"\n",
    "print(type(str1))"
   ]
  },
  {
   "cell_type": "code",
   "execution_count": 8,
   "id": "8f48e6a3-6a8c-41bb-a79c-9ba7daac3020",
   "metadata": {},
   "outputs": [],
   "source": [
    "#String methods"
   ]
  },
  {
   "cell_type": "code",
   "execution_count": 11,
   "id": "e2964ede-3c59-49c3-acb2-f5c7c78e7334",
   "metadata": {},
   "outputs": [
    {
     "name": "stdout",
     "output_type": "stream",
     "text": [
      "iceem\n"
     ]
    }
   ],
   "source": [
    "print(str1.lower())"
   ]
  },
  {
   "cell_type": "code",
   "execution_count": 15,
   "id": "c754c1d8-6711-4bb3-b3f3-817476045807",
   "metadata": {},
   "outputs": [
    {
     "name": "stdout",
     "output_type": "stream",
     "text": [
      "ICEEM\n"
     ]
    }
   ],
   "source": [
    "print(str1.upper())"
   ]
  },
  {
   "cell_type": "code",
   "execution_count": 16,
   "id": "abfcede0-bb53-492e-8211-97f4fe792b5c",
   "metadata": {},
   "outputs": [
    {
     "name": "stdout",
     "output_type": "stream",
     "text": [
      "Iceem\n"
     ]
    }
   ],
   "source": [
    "print(str1.title())"
   ]
  },
  {
   "cell_type": "code",
   "execution_count": 18,
   "id": "f21d2c7f-9f74-4323-9ede-0e1790083c46",
   "metadata": {},
   "outputs": [],
   "source": [
    "str2=\"Shubham\""
   ]
  },
  {
   "cell_type": "code",
   "execution_count": 19,
   "id": "19c264b6-d8e7-4448-aecd-61a6a382a4ac",
   "metadata": {},
   "outputs": [
    {
     "name": "stdout",
     "output_type": "stream",
     "text": [
      "Shubham\n"
     ]
    }
   ],
   "source": [
    "print(str2.capitalize())"
   ]
  },
  {
   "cell_type": "code",
   "execution_count": 22,
   "id": "872251cd-3594-4adf-b990-6fc332b4dac0",
   "metadata": {},
   "outputs": [
    {
     "data": {
      "text/plain": [
       "'sonu'"
      ]
     },
     "execution_count": 22,
     "metadata": {},
     "output_type": "execute_result"
    }
   ],
   "source": [
    "name=\"monu\"\n",
    "name= name.replace(\"m\",\"s\")\n",
    "name "
   ]
  },
  {
   "cell_type": "code",
   "execution_count": 24,
   "id": "b19887f8-510d-4a81-ba9a-e1638429bf9b",
   "metadata": {},
   "outputs": [
    {
     "data": {
      "text/plain": [
       "'shubham'"
      ]
     },
     "execution_count": 24,
     "metadata": {},
     "output_type": "execute_result"
    }
   ],
   "source": [
    "name=\"Sakshad\"\n",
    "name=name.replace(\"Sakshad\",\"shubham\")\n",
    "name"
   ]
  },
  {
   "cell_type": "markdown",
   "id": "2080bdd3-a9e4-439b-9be0-6f024756e966",
   "metadata": {},
   "source": [
    "# conut method"
   ]
  },
  {
   "cell_type": "code",
   "execution_count": 26,
   "id": "5319e526-64b4-40ff-9fe9-06b3bf043639",
   "metadata": {},
   "outputs": [
    {
     "data": {
      "text/plain": [
       "3"
      ]
     },
     "execution_count": 26,
     "metadata": {},
     "output_type": "execute_result"
    }
   ],
   "source": [
    "mystr3 = \" one two three one two two three\"\n",
    "mystr3.count(\"two\")"
   ]
  },
  {
   "cell_type": "code",
   "execution_count": 27,
   "id": "0d144d05-891a-467f-8564-5d05743e3040",
   "metadata": {},
   "outputs": [
    {
     "data": {
      "text/plain": [
       "True"
      ]
     },
     "execution_count": 27,
     "metadata": {},
     "output_type": "execute_result"
    }
   ],
   "source": [
    "name.startswith(\"s\")"
   ]
  },
  {
   "cell_type": "code",
   "execution_count": 29,
   "id": "3bf38f61-09b8-4376-9260-345f3a28ab10",
   "metadata": {},
   "outputs": [
    {
     "name": "stdout",
     "output_type": "stream",
     "text": [
      "False\n"
     ]
    }
   ],
   "source": [
    "print(name.startswith(\"S\"))"
   ]
  },
  {
   "cell_type": "markdown",
   "id": "ae105b1d-0744-4771-ac6a-1565ce6a44df",
   "metadata": {},
   "source": [
    "# split"
   ]
  },
  {
   "cell_type": "code",
   "execution_count": 34,
   "id": "fca31df8-bd6d-4e4e-8967-f9218baf1f9b",
   "metadata": {},
   "outputs": [
    {
     "name": "stdout",
     "output_type": "stream",
     "text": [
      "['ICEEM', 'is', 'a', 'Engg', '&', 'Polytechnic', 'college']\n",
      "['ICEEM is a ', ' & Polytechnic college']\n"
     ]
    }
   ],
   "source": [
    "str1=\"ICEEM is a Engg & Polytechnic college\"\n",
    "print(str1.split())\n",
    "print(str1.split(\"Engg\"))"
   ]
  },
  {
   "cell_type": "code",
   "execution_count": 35,
   "id": "62938a2c-7ff3-4e6b-beb0-ab7421fe3011",
   "metadata": {},
   "outputs": [
    {
     "name": "stdout",
     "output_type": "stream",
     "text": [
      "False\n"
     ]
    }
   ],
   "source": [
    "mystr4 = '564654654654'\n",
    "print(mystr4.isalpha())"
   ]
  },
  {
   "cell_type": "code",
   "execution_count": 37,
   "id": "524a1644-1851-4b66-8285-ee1034c00ba4",
   "metadata": {},
   "outputs": [
    {
     "name": "stdout",
     "output_type": "stream",
     "text": [
      "True\n"
     ]
    }
   ],
   "source": [
    "print(mystr4.isalnum())"
   ]
  },
  {
   "cell_type": "code",
   "execution_count": 38,
   "id": "71564233-4242-4baa-9451-61cbe9bb74df",
   "metadata": {},
   "outputs": [],
   "source": [
    "# indexing - position of elements"
   ]
  },
  {
   "cell_type": "code",
   "execution_count": 39,
   "id": "3b16a027-8edf-458c-9722-ac4d2008864b",
   "metadata": {},
   "outputs": [
    {
     "data": {
      "text/plain": [
       "'C'"
      ]
     },
     "execution_count": 39,
     "metadata": {},
     "output_type": "execute_result"
    }
   ],
   "source": [
    "str1=\"ICEEM\"\n",
    "str1[1]"
   ]
  },
  {
   "cell_type": "code",
   "execution_count": 42,
   "id": "74e7a25b-9343-440a-a7b9-81d139af79b0",
   "metadata": {},
   "outputs": [
    {
     "data": {
      "text/plain": [
       "'Engg & Polytechnic'"
      ]
     },
     "execution_count": 42,
     "metadata": {},
     "output_type": "execute_result"
    }
   ],
   "source": [
    "str5=\"ICEEM is a Engg & Polytechnic college\"\n",
    "str5[11:29]"
   ]
  },
  {
   "cell_type": "code",
   "execution_count": 43,
   "id": "c466369d-1a5d-4886-be73-edf08eea79d0",
   "metadata": {},
   "outputs": [
    {
     "data": {
      "text/plain": [
       "'Engg & Polytechnic '"
      ]
     },
     "execution_count": 43,
     "metadata": {},
     "output_type": "execute_result"
    }
   ],
   "source": [
    "str5[11:30]"
   ]
  },
  {
   "cell_type": "code",
   "execution_count": 46,
   "id": "f15b7142-ff92-418e-b616-8f5e7e9d0e6c",
   "metadata": {},
   "outputs": [
    {
     "data": {
      "text/plain": [
       "'Polytechnic'"
      ]
     },
     "execution_count": 46,
     "metadata": {},
     "output_type": "execute_result"
    }
   ],
   "source": [
    "str5[18:29:1]"
   ]
  },
  {
   "cell_type": "code",
   "execution_count": 47,
   "id": "8a7c7cc3-66b7-4ad1-a9eb-4b01bd3c312e",
   "metadata": {},
   "outputs": [
    {
     "data": {
      "text/plain": [
       "'Pltcnc'"
      ]
     },
     "execution_count": 47,
     "metadata": {},
     "output_type": "execute_result"
    }
   ],
   "source": [
    "str5[18:29:2]"
   ]
  },
  {
   "cell_type": "code",
   "execution_count": 53,
   "id": "58ee5750-b8aa-46bb-b566-3a6cf67927a5",
   "metadata": {},
   "outputs": [
    {
     "name": "stdout",
     "output_type": "stream",
     "text": [
      "\n"
     ]
    }
   ],
   "source": [
    "print(str5[-9:-20:1])"
   ]
  },
  {
   "cell_type": "code",
   "execution_count": 56,
   "id": "266dddea-68f0-456b-92ed-3296456c253e",
   "metadata": {},
   "outputs": [
    {
     "data": {
      "text/plain": [
       "'MEECI'"
      ]
     },
     "execution_count": 56,
     "metadata": {},
     "output_type": "execute_result"
    }
   ],
   "source": [
    "str2 =\"ICEEM\"\n",
    "str2[::-1]"
   ]
  },
  {
   "cell_type": "code",
   "execution_count": 57,
   "id": "c1391cc2-be4c-4575-b8ce-1e2e4393c2a3",
   "metadata": {},
   "outputs": [
    {
     "data": {
      "text/plain": [
       "False"
      ]
     },
     "execution_count": 57,
     "metadata": {},
     "output_type": "execute_result"
    }
   ],
   "source": [
    "str2 == str2[::-1]"
   ]
  },
  {
   "cell_type": "code",
   "execution_count": 59,
   "id": "b0581ff2-acfb-4a30-a5a8-2bbcacd3a0ce",
   "metadata": {},
   "outputs": [
    {
     "name": "stdout",
     "output_type": "stream",
     "text": [
      "not palindrome\n"
     ]
    }
   ],
   "source": [
    "if str2 == str2[::-1]:\n",
    "    print(\"Palindrome\")\n",
    "else:\n",
    "    print(\"not palindrome\")"
   ]
  },
  {
   "cell_type": "code",
   "execution_count": 60,
   "id": "c9bc152f-d19e-404d-b962-3870f5ff32ad",
   "metadata": {},
   "outputs": [],
   "source": [
    "#Dictionary"
   ]
  },
  {
   "cell_type": "code",
   "execution_count": 64,
   "id": "4df4790d-ef08-4aa4-91e6-f8129a1b9c10",
   "metadata": {},
   "outputs": [
    {
     "data": {
      "text/plain": [
       "'dahskas'"
      ]
     },
     "execution_count": 64,
     "metadata": {},
     "output_type": "execute_result"
    }
   ],
   "source": [
    "str7=\"sakshad\"\n",
    "str7[::-1]"
   ]
  },
  {
   "cell_type": "code",
   "execution_count": 65,
   "id": "02c678ef-a87d-4f1d-8db3-699269720c09",
   "metadata": {},
   "outputs": [
    {
     "name": "stdout",
     "output_type": "stream",
     "text": [
      "not palindrome\n"
     ]
    }
   ],
   "source": [
    "if str7 == str7[::-1]:\n",
    "    print(\"Palindrome\")\n",
    "else:\n",
    "    print(\"not palindrome\")"
   ]
  },
  {
   "cell_type": "code",
   "execution_count": 66,
   "id": "119864d6-d5f7-40c6-8476-c0161c5d2c9c",
   "metadata": {},
   "outputs": [],
   "source": [
    "#Dictionary - It is a collection of data in from of key value pair"
   ]
  },
  {
   "cell_type": "code",
   "execution_count": 75,
   "id": "690f7df7-8ca2-4f24-89da-d0ffbbca81e4",
   "metadata": {},
   "outputs": [
    {
     "data": {
      "text/plain": [
       "('Sakshad', ['age'])"
      ]
     },
     "execution_count": 75,
     "metadata": {},
     "output_type": "execute_result"
    }
   ],
   "source": [
    "my_student ={\"name\":\"Shubham\",\"age\":24}\n",
    "my_student[\"name\"]\n",
    "students ={\n",
    "   \"student1\": {\"name\":\"Shubham\",\"age\":24},\n",
    "    \"student2\": {\"name\":\"Sakshad\",\"age\":22},\n",
    "    \"student3\": {\"name\":\"sagar\",\"age\":22}\n",
    "    }\n",
    "students[\"student2\"][\"age\"]\n",
    "students[\"student2\"][\"name\"],[\"age\"]"
   ]
  },
  {
   "cell_type": "code",
   "execution_count": 83,
   "id": "3b7d679b-e466-400d-a95b-5af87f023a5b",
   "metadata": {},
   "outputs": [
    {
     "data": {
      "text/plain": [
       "dict_keys(['student1', 'student2', 'student3'])"
      ]
     },
     "execution_count": 83,
     "metadata": {},
     "output_type": "execute_result"
    }
   ],
   "source": [
    "#dictionary methods\n",
    "students.keys()"
   ]
  },
  {
   "cell_type": "code",
   "execution_count": 85,
   "id": "4a8cf7e2-f645-41c3-b390-349fcf18cc43",
   "metadata": {},
   "outputs": [
    {
     "data": {
      "text/plain": [
       "dict_values([{'name': 'Shubham', 'age': 24}, {'name': 'Sakshad', 'age': 22}, {'name': 'sagar', 'age': 22}])"
      ]
     },
     "execution_count": 85,
     "metadata": {},
     "output_type": "execute_result"
    }
   ],
   "source": [
    "students.values()"
   ]
  },
  {
   "cell_type": "code",
   "execution_count": 86,
   "id": "1d51cb86-a644-4010-b0cd-1df2afc713b0",
   "metadata": {},
   "outputs": [
    {
     "data": {
      "text/plain": [
       "dict_items([('student1', {'name': 'Shubham', 'age': 24}), ('student2', {'name': 'Sakshad', 'age': 22}), ('student3', {'name': 'sagar', 'age': 22})])"
      ]
     },
     "execution_count": 86,
     "metadata": {},
     "output_type": "execute_result"
    }
   ],
   "source": [
    "students.items()"
   ]
  },
  {
   "cell_type": "code",
   "execution_count": 87,
   "id": "bc930938-6a14-449a-b6bc-068a318c7e23",
   "metadata": {},
   "outputs": [
    {
     "data": {
      "text/plain": [
       "{1, 2, 3, 4, 5}"
      ]
     },
     "execution_count": 87,
     "metadata": {},
     "output_type": "execute_result"
    }
   ],
   "source": [
    "#Set - It does not allow duplicates.\n",
    "myset= {1,2,3,4,5,1,2,3}\n",
    "myset"
   ]
  },
  {
   "cell_type": "code",
   "execution_count": 88,
   "id": "d4734d36-42be-4937-9a96-cd55b5515b32",
   "metadata": {},
   "outputs": [
    {
     "data": {
      "text/plain": [
       "{1, 2, 3, 4, 5, 50}"
      ]
     },
     "execution_count": 88,
     "metadata": {},
     "output_type": "execute_result"
    }
   ],
   "source": [
    "# Set Methods\n",
    "myset.add(50)\n",
    "myset"
   ]
  },
  {
   "cell_type": "code",
   "execution_count": 90,
   "id": "e1237ca5-dfb6-4aae-a142-9f6ebcf78272",
   "metadata": {},
   "outputs": [
    {
     "data": {
      "text/plain": [
       "{1, 2, 3, 4, 5, 50, 60, 70, 80}"
      ]
     },
     "execution_count": 90,
     "metadata": {},
     "output_type": "execute_result"
    }
   ],
   "source": [
    "\n",
    "myset.update([60,70,80])\n",
    "myset\n"
   ]
  },
  {
   "cell_type": "code",
   "execution_count": 91,
   "id": "f8ed8bc1-896a-4eb7-8c31-471ac0854b91",
   "metadata": {},
   "outputs": [
    {
     "data": {
      "text/plain": [
       "{1, 2, 3, 4, 5, 50, 60, 70}"
      ]
     },
     "execution_count": 91,
     "metadata": {},
     "output_type": "execute_result"
    }
   ],
   "source": [
    "myset.discard(80) # It does not throw any eror even if \n",
    "myset"
   ]
  },
  {
   "cell_type": "markdown",
   "id": "133b9c29-da16-4bf1-85fa-daa1677b7e7e",
   "metadata": {},
   "source": [
    "# conditional statements\n",
    "# IF, Elif  Else\n"
   ]
  },
  {
   "cell_type": "code",
   "execution_count": 101,
   "id": "f46f641e-66f3-4c99-ae9d-1da84f97525b",
   "metadata": {},
   "outputs": [
    {
     "name": "stdout",
     "output_type": "stream",
     "text": [
      "x is not equal to 10\n"
     ]
    }
   ],
   "source": [
    "x = 100\n",
    "if x == 10:\n",
    "    print(\"x is equal to 10\")\n",
    "else:\n",
    "    print(\"x is not equal to 10\")"
   ]
  },
  {
   "cell_type": "code",
   "execution_count": 105,
   "id": "633f0359-b386-46de-9bcb-569895dc734c",
   "metadata": {},
   "outputs": [
    {
     "name": "stdin",
     "output_type": "stream",
     "text": [
      "enter marks: 87\n"
     ]
    },
    {
     "name": "stdout",
     "output_type": "stream",
     "text": [
      "Grade A\n"
     ]
    }
   ],
   "source": [
    "num = eval(input(\"enter marks:\"))\n",
    "if num >=80:\n",
    "    print(\"Grade A\")\n",
    "elif num >= 60:\n",
    "    print(\"Grade B\")\n",
    "elif num >= 40:\n",
    "    print(\"Grade c\")\n",
    "else:\n",
    "    print(\"Grade D\")"
   ]
  },
  {
   "cell_type": "markdown",
   "id": "12f9621a-4c5e-47c2-afdb-32970c016f26",
   "metadata": {},
   "source": [
    "# ATM Program using if else\n",
    "\n"
   ]
  },
  {
   "cell_type": "code",
   "execution_count": 1,
   "id": "f38b94c7-51cc-48d2-b7bf-d312de519a7f",
   "metadata": {},
   "outputs": [
    {
     "name": "stdin",
     "output_type": "stream",
     "text": [
      "Enter your name: ICEEM\n",
      "Enter your pin: 1234\n"
     ]
    },
    {
     "name": "stdout",
     "output_type": "stream",
     "text": [
      "Welcome iceem\n"
     ]
    }
   ],
   "source": [
    "user_name_input = input(\"Enter your name:\")\n",
    "if user_name_input ==\"ICEEM\":\n",
    "    user_pin = int(input(\"Enter your pin:\"))\n",
    "    if user_pin == 1234:\n",
    "        print(\"Welcome iceem\")\n",
    "    else:\n",
    "        print(\"Invalid user\")"
   ]
  },
  {
   "cell_type": "markdown",
   "id": "0423c1c2-2dbb-4cdd-9b0b-ecbfe3b3b51a",
   "metadata": {},
   "source": [
    "# loops\n",
    "# for loop and while loop"
   ]
  },
  {
   "cell_type": "code",
   "execution_count": 9,
   "id": "38e06e24-a747-49db-87cb-a39d493c39c8",
   "metadata": {},
   "outputs": [
    {
     "name": "stdout",
     "output_type": "stream",
     "text": [
      "0Thank you\n",
      "1Thank you\n",
      "2Thank you\n"
     ]
    }
   ],
   "source": [
    "for i in range(3):\n",
    "    print(f\"{i}Thank you\")"
   ]
  },
  {
   "cell_type": "code",
   "execution_count": 15,
   "id": "c4270a60-d61b-48d2-aaf8-26e1449dbb0e",
   "metadata": {},
   "outputs": [
    {
     "name": "stdout",
     "output_type": "stream",
     "text": [
      "1\n",
      "2\n",
      "3\n",
      "4\n",
      "5\n",
      "6\n",
      "7\n",
      "8\n",
      "9\n",
      "10\n",
      "11\n",
      "12\n",
      "13\n",
      "14\n",
      "15\n",
      "16\n",
      "17\n",
      "18\n",
      "19\n",
      "20\n"
     ]
    }
   ],
   "source": [
    "#numbers from 1 to 20\n",
    "for i in range(1,21):\n",
    "    print(i)"
   ]
  },
  {
   "cell_type": "code",
   "execution_count": 17,
   "id": "aa0479e2-472c-4e31-a30f-ad9b62a83b3b",
   "metadata": {},
   "outputs": [
    {
     "name": "stdout",
     "output_type": "stream",
     "text": [
      "2\n",
      "4\n",
      "6\n",
      "8\n",
      "10\n",
      "12\n",
      "14\n",
      "16\n",
      "18\n",
      "20\n"
     ]
    }
   ],
   "source": [
    "for i in range(2,21,2):\n",
    "    print(i)"
   ]
  },
  {
   "cell_type": "code",
   "execution_count": 26,
   "id": "1ff24106-50f7-430a-9a1d-a434c2d14c04",
   "metadata": {},
   "outputs": [
    {
     "name": "stdout",
     "output_type": "stream",
     "text": [
      "5\n",
      "10\n",
      "15\n",
      "20\n",
      "25\n",
      "30\n",
      "35\n",
      "40\n",
      "45\n",
      "50\n"
     ]
    }
   ],
   "source": [
    "for i in range(5,55,5):\n",
    "    print(i)"
   ]
  },
  {
   "cell_type": "code",
   "execution_count": 30,
   "id": "a62dea7c-2abf-42cf-a924-b7b3ce60282f",
   "metadata": {},
   "outputs": [
    {
     "name": "stdout",
     "output_type": "stream",
     "text": [
      "1\n",
      "4\n",
      "9\n",
      "16\n",
      "25\n"
     ]
    }
   ],
   "source": [
    "list1 =[1,2,3,4,5]\n",
    "for i in list1:\n",
    "    print(i**2)"
   ]
  },
  {
   "cell_type": "code",
   "execution_count": 42,
   "id": "650588f4-83f4-4528-af09-7eff7f907da7",
   "metadata": {
    "scrolled": true
   },
   "outputs": [
    {
     "name": "stdout",
     "output_type": "stream",
     "text": [
      "1\n",
      "2\n",
      "3\n",
      "4\n",
      "5\n",
      "6\n",
      "7\n",
      "8\n",
      "9\n",
      "10\n",
      "11\n",
      "12\n",
      "13\n",
      "14\n",
      "15\n",
      "16\n",
      "17\n",
      "18\n",
      "19\n",
      "20\n",
      "21\n",
      "22\n",
      "23\n",
      "24\n",
      "25\n",
      "26\n",
      "27\n",
      "28\n",
      "29\n",
      "30\n",
      "31\n",
      "32\n",
      "33\n",
      "34\n",
      "35\n",
      "36\n",
      "37\n",
      "38\n",
      "39\n",
      "40\n",
      "41\n",
      "42\n",
      "43\n",
      "44\n",
      "45\n",
      "46\n",
      "47\n",
      "48\n",
      "49\n",
      "50\n",
      "51\n",
      "52\n",
      "53\n",
      "54\n",
      "55\n",
      "56\n",
      "57\n",
      "58\n",
      "59\n",
      "60\n",
      "61\n",
      "62\n",
      "63\n",
      "64\n",
      "65\n",
      "66\n",
      "67\n",
      "68\n",
      "69\n",
      "70\n",
      "71\n",
      "72\n",
      "73\n",
      "74\n",
      "75\n",
      "76\n",
      "77\n",
      "78\n",
      "79\n",
      "80\n",
      "81\n",
      "82\n",
      "83\n",
      "84\n",
      "85\n",
      "86\n",
      "87\n",
      "88\n",
      "89\n",
      "90\n",
      "91\n",
      "92\n",
      "93\n",
      "94\n",
      "95\n",
      "96\n",
      "97\n",
      "98\n",
      "99\n",
      "100\n"
     ]
    }
   ],
   "source": [
    "for i in range(1,101):\n",
    "    list(range(1,101))\n",
    "    print(i)"
   ]
  },
  {
   "cell_type": "code",
   "execution_count": 61,
   "id": "db95a285-a997-4cd0-9aa9-3c6000834000",
   "metadata": {},
   "outputs": [],
   "source": [
    "even_list=[]\n",
    "odd_list=[]\n",
    "\n",
    "for i in range(1,101):\n",
    "    if i % 2 == 0:\n",
    "        even_list.append(i)\n",
    "    else:\n",
    "        odd_list.append(i)\n",
    "\n",
    "\n",
    "    "
   ]
  },
  {
   "cell_type": "code",
   "execution_count": 58,
   "id": "4d44eefa-2f86-431e-9945-c05b5fe658cf",
   "metadata": {},
   "outputs": [
    {
     "data": {
      "text/plain": [
       "[2,\n",
       " 4,\n",
       " 6,\n",
       " 8,\n",
       " 10,\n",
       " 12,\n",
       " 14,\n",
       " 16,\n",
       " 18,\n",
       " 20,\n",
       " 22,\n",
       " 24,\n",
       " 26,\n",
       " 28,\n",
       " 30,\n",
       " 32,\n",
       " 34,\n",
       " 36,\n",
       " 38,\n",
       " 40,\n",
       " 42,\n",
       " 44,\n",
       " 46,\n",
       " 48,\n",
       " 50,\n",
       " 52,\n",
       " 54,\n",
       " 56,\n",
       " 58,\n",
       " 60,\n",
       " 62,\n",
       " 64,\n",
       " 66,\n",
       " 68,\n",
       " 70,\n",
       " 72,\n",
       " 74,\n",
       " 76,\n",
       " 78,\n",
       " 80,\n",
       " 82,\n",
       " 84,\n",
       " 86,\n",
       " 88,\n",
       " 90,\n",
       " 92,\n",
       " 94,\n",
       " 96,\n",
       " 98,\n",
       " 100]"
      ]
     },
     "execution_count": 58,
     "metadata": {},
     "output_type": "execute_result"
    }
   ],
   "source": [
    "even_list"
   ]
  },
  {
   "cell_type": "code",
   "execution_count": 62,
   "id": "be3fbeeb-2759-4a43-aeb3-80b99a196387",
   "metadata": {},
   "outputs": [
    {
     "data": {
      "text/plain": [
       "[1,\n",
       " 3,\n",
       " 5,\n",
       " 7,\n",
       " 9,\n",
       " 11,\n",
       " 13,\n",
       " 15,\n",
       " 17,\n",
       " 19,\n",
       " 21,\n",
       " 23,\n",
       " 25,\n",
       " 27,\n",
       " 29,\n",
       " 31,\n",
       " 33,\n",
       " 35,\n",
       " 37,\n",
       " 39,\n",
       " 41,\n",
       " 43,\n",
       " 45,\n",
       " 47,\n",
       " 49,\n",
       " 51,\n",
       " 53,\n",
       " 55,\n",
       " 57,\n",
       " 59,\n",
       " 61,\n",
       " 63,\n",
       " 65,\n",
       " 67,\n",
       " 69,\n",
       " 71,\n",
       " 73,\n",
       " 75,\n",
       " 77,\n",
       " 79,\n",
       " 81,\n",
       " 83,\n",
       " 85,\n",
       " 87,\n",
       " 89,\n",
       " 91,\n",
       " 93,\n",
       " 95,\n",
       " 97,\n",
       " 99]"
      ]
     },
     "execution_count": 62,
     "metadata": {},
     "output_type": "execute_result"
    }
   ],
   "source": [
    "odd_list"
   ]
  },
  {
   "cell_type": "code",
   "execution_count": 93,
   "id": "00a5e161-6b41-42f6-a3e3-612c1d40df29",
   "metadata": {},
   "outputs": [
    {
     "name": "stdout",
     "output_type": "stream",
     "text": [
      "1 * 1 =   1\t2 * 1 =   2\t3 * 1 =   3\t4 * 1 =   4\t5 * 1 =   5\t6 * 1 =   6\t7 * 1 =   7\t8 * 1 =   8\t9 * 1 =   9\t10 * 1 =  10\t\n",
      "1 * 2 =   2\t2 * 2 =   4\t3 * 2 =   6\t4 * 2 =   8\t5 * 2 =  10\t6 * 2 =  12\t7 * 2 =  14\t8 * 2 =  16\t9 * 2 =  18\t10 * 2 =  20\t\n",
      "1 * 3 =   3\t2 * 3 =   6\t3 * 3 =   9\t4 * 3 =  12\t5 * 3 =  15\t6 * 3 =  18\t7 * 3 =  21\t8 * 3 =  24\t9 * 3 =  27\t10 * 3 =  30\t\n",
      "1 * 4 =   4\t2 * 4 =   8\t3 * 4 =  12\t4 * 4 =  16\t5 * 4 =  20\t6 * 4 =  24\t7 * 4 =  28\t8 * 4 =  32\t9 * 4 =  36\t10 * 4 =  40\t\n",
      "1 * 5 =   5\t2 * 5 =  10\t3 * 5 =  15\t4 * 5 =  20\t5 * 5 =  25\t6 * 5 =  30\t7 * 5 =  35\t8 * 5 =  40\t9 * 5 =  45\t10 * 5 =  50\t\n",
      "1 * 6 =   6\t2 * 6 =  12\t3 * 6 =  18\t4 * 6 =  24\t5 * 6 =  30\t6 * 6 =  36\t7 * 6 =  42\t8 * 6 =  48\t9 * 6 =  54\t10 * 6 =  60\t\n",
      "1 * 7 =   7\t2 * 7 =  14\t3 * 7 =  21\t4 * 7 =  28\t5 * 7 =  35\t6 * 7 =  42\t7 * 7 =  49\t8 * 7 =  56\t9 * 7 =  63\t10 * 7 =  70\t\n",
      "1 * 8 =   8\t2 * 8 =  16\t3 * 8 =  24\t4 * 8 =  32\t5 * 8 =  40\t6 * 8 =  48\t7 * 8 =  56\t8 * 8 =  64\t9 * 8 =  72\t10 * 8 =  80\t\n",
      "1 * 9 =   9\t2 * 9 =  18\t3 * 9 =  27\t4 * 9 =  36\t5 * 9 =  45\t6 * 9 =  54\t7 * 9 =  63\t8 * 9 =  72\t9 * 9 =  81\t10 * 9 =  90\t\n",
      "1 * 10 =  10\t2 * 10 =  20\t3 * 10 =  30\t4 * 10 =  40\t5 * 10 =  50\t6 * 10 =  60\t7 * 10 =  70\t8 * 10 =  80\t9 * 10 =  90\t10 * 10 = 100\t\n"
     ]
    }
   ],
   "source": [
    "for i in range(1,11):\n",
    "    for j in range(1,11):\n",
    "        #  print(i,\"x\",j,\"=\",i*j)\n",
    "        print(f\"{j} * {i:1} = {i*j:3}\",end = \"\\t\")\n",
    "    print()\n",
    "        \n"
   ]
  },
  {
   "cell_type": "code",
   "execution_count": 95,
   "id": "1c83fd1b-fa6d-4178-b473-a60f1c2b6acb",
   "metadata": {},
   "outputs": [
    {
     "name": "stdout",
     "output_type": "stream",
     "text": [
      "1 * 1 = 1\t2 * 1 = 2\t3 * 1 = 3\t4 * 1 = 4\t5 * 1 = 5\t6 * 1 = 6\t7 * 1 = 7\t8 * 1 = 8\t9 * 1 = 9\t10 * 1 = 10\t1 * 2 = 2\t2 * 2 = 4\t3 * 2 = 6\t4 * 2 = 8\t5 * 2 = 10\t6 * 2 = 12\t7 * 2 = 14\t8 * 2 = 16\t9 * 2 = 18\t10 * 2 = 20\t1 * 3 = 3\t2 * 3 = 6\t3 * 3 = 9\t4 * 3 = 12\t5 * 3 = 15\t6 * 3 = 18\t7 * 3 = 21\t8 * 3 = 24\t9 * 3 = 27\t10 * 3 = 30\t1 * 4 = 4\t2 * 4 = 8\t3 * 4 = 12\t4 * 4 = 16\t5 * 4 = 20\t6 * 4 = 24\t7 * 4 = 28\t8 * 4 = 32\t9 * 4 = 36\t10 * 4 = 40\t1 * 5 = 5\t2 * 5 = 10\t3 * 5 = 15\t4 * 5 = 20\t5 * 5 = 25\t6 * 5 = 30\t7 * 5 = 35\t8 * 5 = 40\t9 * 5 = 45\t10 * 5 = 50\t1 * 6 = 6\t2 * 6 = 12\t3 * 6 = 18\t4 * 6 = 24\t5 * 6 = 30\t6 * 6 = 36\t7 * 6 = 42\t8 * 6 = 48\t9 * 6 = 54\t10 * 6 = 60\t1 * 7 = 7\t2 * 7 = 14\t3 * 7 = 21\t4 * 7 = 28\t5 * 7 = 35\t6 * 7 = 42\t7 * 7 = 49\t8 * 7 = 56\t9 * 7 = 63\t10 * 7 = 70\t1 * 8 = 8\t2 * 8 = 16\t3 * 8 = 24\t4 * 8 = 32\t5 * 8 = 40\t6 * 8 = 48\t7 * 8 = 56\t8 * 8 = 64\t9 * 8 = 72\t10 * 8 = 80\t1 * 9 = 9\t2 * 9 = 18\t3 * 9 = 27\t4 * 9 = 36\t5 * 9 = 45\t6 * 9 = 54\t7 * 9 = 63\t8 * 9 = 72\t9 * 9 = 81\t10 * 9 = 90\t1 * 10 = 10\t2 * 10 = 20\t3 * 10 = 30\t4 * 10 = 40\t5 * 10 = 50\t6 * 10 = 60\t7 * 10 = 70\t8 * 10 = 80\t9 * 10 = 90\t10 * 10 = 100\t"
     ]
    }
   ],
   "source": [
    "for i in range(1,11):\n",
    "    for j in range(1,11):\n",
    "        #  print(i,\"x\",j,\"=\",i*j)\n",
    "        print(f\"{j} * {i:1} = {i*j:1}\", end =  \"\\t\")"
   ]
  },
  {
   "cell_type": "code",
   "execution_count": 96,
   "id": "45233df6-7b13-4006-9702-38cd81b51ef4",
   "metadata": {},
   "outputs": [],
   "source": [
    "# Star pattern"
   ]
  },
  {
   "cell_type": "code",
   "execution_count": 104,
   "id": "32c8ad4e-be5b-42a0-839a-08898538ec36",
   "metadata": {},
   "outputs": [
    {
     "name": "stdin",
     "output_type": "stream",
     "text": [
      "Ente rows:  5\n"
     ]
    },
    {
     "name": "stdout",
     "output_type": "stream",
     "text": [
      "\n",
      "* \n",
      "* * \n",
      "* * * \n",
      "* * * * \n",
      "* * * * * \n"
     ]
    }
   ],
   "source": [
    "rows = int(input(\"Ente rows: \"))\n",
    "for i in range(rows+1):\n",
    "    for j in range(1,i+1):\n",
    "        print(\"*\", end = \" \")\n",
    "    print()\n",
    "\n",
    "\n",
    "    "
   ]
  },
  {
   "cell_type": "markdown",
   "id": "cff547ba-ee82-45f5-81e8-d5f3d22e6b0f",
   "metadata": {},
   "source": [
    "# WHILE LOOP"
   ]
  },
  {
   "cell_type": "code",
   "execution_count": 115,
   "id": "07cd733f-4eff-438d-9807-76bc297e11b9",
   "metadata": {},
   "outputs": [
    {
     "name": "stdout",
     "output_type": "stream",
     "text": [
      "1\n",
      "2\n",
      "3\n",
      "4\n",
      "5\n",
      "6\n",
      "7\n",
      "8\n",
      "9\n",
      "10\n"
     ]
    }
   ],
   "source": [
    "num = 1\n",
    "while num <= 10:\n",
    "    print(num)\n",
    "    num += 1m"
   ]
  },
  {
   "cell_type": "code",
   "execution_count": 1,
   "id": "6abc276d-b518-479b-bd78-f7d0400540fe",
   "metadata": {},
   "outputs": [
    {
     "ename": "NameError",
     "evalue": "name 'random' is not defined",
     "output_type": "error",
     "traceback": [
      "\u001b[1;31m---------------------------------------------------------------------------\u001b[0m",
      "\u001b[1;31mNameError\u001b[0m                                 Traceback (most recent call last)",
      "Cell \u001b[1;32mIn[1], line 2\u001b[0m\n\u001b[0;32m      1\u001b[0m \u001b[38;5;28;01mimport\u001b[39;00m \u001b[38;5;21;01mpandas\u001b[39;00m \u001b[38;5;66;03m#random\u001b[39;00m\n\u001b[1;32m----> 2\u001b[0m secret_number \u001b[38;5;241m=\u001b[39m random\u001b[38;5;241m.\u001b[39mrandint(\u001b[38;5;241m1\u001b[39m,\u001b[38;5;241m10\u001b[39m)\n\u001b[0;32m      3\u001b[0m guess \u001b[38;5;241m=\u001b[39m \u001b[38;5;28;01mNone\u001b[39;00m\n\u001b[0;32m      4\u001b[0m attempts \u001b[38;5;241m=\u001b[39m \u001b[38;5;241m0\u001b[39m\n",
      "\u001b[1;31mNameError\u001b[0m: name 'random' is not defined"
     ]
    }
   ],
   "source": [
    "import pandas #random\n",
    "secret_number = random.randint(1,10)\n",
    "guess = None\n",
    "attempts = 0\n",
    "while guess != secret_number:\n",
    "  guess = int(input(\"Guess the number : \"))\n",
    "  attempts +=1\n",
    "if guess < secret_number:\n",
    "    print( \"low\")\n",
    "elif guess > secret_number:\n",
    "    print(\"Too high\")\n",
    "else:\n",
    "    print(f\"You guessed it in {attempts} attempts\")"
   ]
  },
  {
   "cell_type": "code",
   "execution_count": 5,
   "id": "bc3f948a-949a-4745-a787-406e44621e58",
   "metadata": {},
   "outputs": [],
   "source": [
    "# functions - bolck of code which runs\n",
    "#user defined\n"
   ]
  },
  {
   "cell_type": "markdown",
   "id": "abc600aa-3f7d-41b1-bf0d-ed07fbe65834",
   "metadata": {},
   "source": [
    "def add():\n",
    "    print(2+7)\n",
    "    add()"
   ]
  },
  {
   "cell_type": "code",
   "execution_count": 27,
   "id": "20a91f5b-afc8-427d-be87-90b18cb69a60",
   "metadata": {},
   "outputs": [],
   "source": [
    "def call_name(name):\n",
    "    print(f\"my name is {name}\")\n",
    "    "
   ]
  },
  {
   "cell_type": "code",
   "execution_count": 28,
   "id": "95cd4f3a-3164-4408-86c3-d00c5006d69b",
   "metadata": {},
   "outputs": [
    {
     "name": "stdout",
     "output_type": "stream",
     "text": [
      "my name is Shubham\n"
     ]
    }
   ],
   "source": [
    "call_name(\"Shubham\")"
   ]
  },
  {
   "cell_type": "markdown",
   "id": "786a37d8-9190-4944-80e4-5b20aaf143de",
   "metadata": {},
   "source": [
    "# function with arbitary arguments"
   ]
  },
  {
   "cell_type": "code",
   "execution_count": 4,
   "id": "b57d56f8-6a8a-42ed-a0ce-b995ed81f15e",
   "metadata": {},
   "outputs": [
    {
     "name": "stdout",
     "output_type": "stream",
     "text": [
      "1\n",
      "2\n",
      "3\n"
     ]
    }
   ],
   "source": [
    "def numbers(*args):\n",
    "    for i in args:\n",
    "     print(i)\n",
    "numbers(1,2,3)"
   ]
  },
  {
   "cell_type": "code",
   "execution_count": 19,
   "id": "33dd2f9f-c7f8-4716-8ca2-415240724731",
   "metadata": {},
   "outputs": [
    {
     "data": {
      "text/plain": [
       "([2, 4, 6, 8, 10], [1, 3, 5, 7, 9])"
      ]
     },
     "execution_count": 19,
     "metadata": {},
     "output_type": "execute_result"
    }
   ],
   "source": [
    "def even_odd(*args):\n",
    "    even_list=[]\n",
    "    odd_list=[]\n",
    "    for i in args:\n",
    "      if i % 2 == 0:\n",
    "        even_list.append(i)\n",
    "      else:\n",
    "        odd_list.append(i)\n",
    "    return even_list, odd_list\n",
    "even_odd(1,2,3,4,5,6,7,8,9,10)\n",
    "            \n",
    "    \n",
    "    \n",
    "    "
   ]
  },
  {
   "cell_type": "markdown",
   "id": "741b7f5f-d3df-44aa-90d3-e56d3ed0b5fa",
   "metadata": {},
   "source": [
    "# login function"
   ]
  },
  {
   "cell_type": "code",
   "execution_count": 35,
   "id": "bd0c4edb-3364-406f-bae4-651e4a3a4a85",
   "metadata": {},
   "outputs": [
    {
     "ename": "SyntaxError",
     "evalue": "invalid syntax (1295960083.py, line 3)",
     "output_type": "error",
     "traceback": [
      "\u001b[1;36m  Cell \u001b[1;32mIn[35], line 3\u001b[1;36m\u001b[0m\n\u001b[1;33m    print(\"iceem\") else:\u001b[0m\n\u001b[1;37m                   ^\u001b[0m\n\u001b[1;31mSyntaxError\u001b[0m\u001b[1;31m:\u001b[0m invalid syntax\n"
     ]
    }
   ],
   "source": [
    "def login(name, password):\n",
    "  if name == \"iceem\" and password == 1234:\n",
    "   print(\"iceem\") else:\n",
    "print(\"Invalid user\")\n",
    "login(\"iceem\",7890)"
   ]
  },
  {
   "cell_type": "markdown",
   "id": "cf2b395d-a41a-475e-9b26-c979838cf466",
   "metadata": {},
   "source": [
    "# Lambda = small anonymous names function"
   ]
  },
  {
   "cell_type": "code",
   "execution_count": 1,
   "id": "536c199c-0e4c-4204-9610-5f6dba26563e",
   "metadata": {},
   "outputs": [],
   "source": [
    "# w r p to input two numbers and display their sum, difference, product and quotient\n"
   ]
  },
  {
   "cell_type": "code",
   "execution_count": 39,
   "id": "2da1bee7-33bb-4ae5-9dba-d9f72db0b3c0",
   "metadata": {},
   "outputs": [
    {
     "name": "stdout",
     "output_type": "stream",
     "text": [
      "<__main__.cs object at 0x0000025047A7C8C0>\n"
     ]
    }
   ],
   "source": [
    "# oops - Object Oriented Programming\n",
    "#It is a method of programming which considers object as a real world entity.\n",
    "#class - Class is blueprint of oject, class is userdefined datatype , class is collection of  object\n",
    "# object - object is instance of object \n",
    "#methods - what my objects can do ?\n",
    "# Attribues - Arguments of objects\n",
    "class cs:\n",
    "    pass\n",
    "\n",
    "student1 =cs()\n",
    "print(student1)"
   ]
  },
  {
   "cell_type": "code",
   "execution_count": 67,
   "id": "09c4f812-ff02-48a3-9c43-bb09bb82be6a",
   "metadata": {},
   "outputs": [],
   "source": [
    "class CS:\n",
    "    def __init__(self, name, age):\n",
    "        self.name = name\n",
    "        self.age = age\n",
    "\n",
    "student1=CS(\"shubham\",24)"
   ]
  },
  {
   "cell_type": "code",
   "execution_count": 59,
   "id": "34fc2bf9-5b93-4412-b4aa-083d884f6b0e",
   "metadata": {},
   "outputs": [
    {
     "data": {
      "text/plain": [
       "'shubham'"
      ]
     },
     "execution_count": 59,
     "metadata": {},
     "output_type": "execute_result"
    }
   ],
   "source": [
    "student1.name"
   ]
  },
  {
   "cell_type": "code",
   "execution_count": 61,
   "id": "5052e3e8-ac27-4ce7-8c13-4a8055cc84fd",
   "metadata": {},
   "outputs": [
    {
     "data": {
      "text/plain": [
       "24"
      ]
     },
     "execution_count": 61,
     "metadata": {},
     "output_type": "execute_result"
    }
   ],
   "source": [
    "student1.age"
   ]
  },
  {
   "cell_type": "code",
   "execution_count": 62,
   "id": "76f9dfdf-6b3c-4763-978a-d3f2f8d942ff",
   "metadata": {},
   "outputs": [],
   "source": [
    "student2= CS(\"Sakshad\",22)"
   ]
  },
  {
   "cell_type": "code",
   "execution_count": 63,
   "id": "a0951f62-5cef-4459-a2bb-919eb4442a50",
   "metadata": {},
   "outputs": [
    {
     "data": {
      "text/plain": [
       "'Sakshad'"
      ]
     },
     "execution_count": 63,
     "metadata": {},
     "output_type": "execute_result"
    }
   ],
   "source": [
    "student2.name"
   ]
  },
  {
   "cell_type": "code",
   "execution_count": 64,
   "id": "da3587e9-7fbe-46a8-8d5d-3591e3edaa5f",
   "metadata": {},
   "outputs": [
    {
     "data": {
      "text/plain": [
       "22"
      ]
     },
     "execution_count": 64,
     "metadata": {},
     "output_type": "execute_result"
    }
   ],
   "source": [
    "\n",
    "student2.age"
   ]
  },
  {
   "cell_type": "code",
   "execution_count": 70,
   "id": "de632d43-d6a2-41e2-aa0f-de593ea7024d",
   "metadata": {},
   "outputs": [
    {
     "name": "stdout",
     "output_type": "stream",
     "text": [
      "Shubham is coding\n"
     ]
    }
   ],
   "source": [
    "class CS:\n",
    "    def __init__(self, name, age):\n",
    "        self.name = name\n",
    "        self.age =  age\n",
    "        \n",
    "    def coding(self):\n",
    "     print(f\"{self.name} is coding\")\n",
    "\n",
    "student1= CS(\"Shubham\",24)\n",
    "student2= CS(\"sakshad\",22)\n",
    "student1.coding()"
   ]
  },
  {
   "cell_type": "markdown",
   "id": "37aed3fd-b16f-4559-a864-bf90886418de",
   "metadata": {},
   "source": [
    "# Inheritance"
   ]
  },
  {
   "cell_type": "code",
   "execution_count": 77,
   "id": "dacf4707-fd74-4801-b72b-fbac9ad0ae34",
   "metadata": {},
   "outputs": [],
   "source": [
    "class Parent:\n",
    "    def __init__(self, name, surname):\n",
    "        self.name = name\n",
    "        self.surname = surname\n",
    "    def show_details(self):\n",
    "        print(f\"My name is {self.name}  {self.surname}\")\n",
    "\n",
    "class Child(Parent):\n",
    "    def __init__(self, name, surname, age):\n",
    "        super().__init__(name, surname)\n",
    "        self.age = age\n",
    "    def intro(self):\n",
    "        super().show_details()\n",
    "        "
   ]
  },
  {
   "cell_type": "code",
   "execution_count": 78,
   "id": "4d84a5de-cd68-493d-a69e-6572bd29c653",
   "metadata": {},
   "outputs": [
    {
     "name": "stdout",
     "output_type": "stream",
     "text": [
      "My name is Amit  Kumar\n"
     ]
    }
   ],
   "source": [
    "child1 = Child(\"Amit\",\"Kumar\",25)\n",
    "child1.intro()"
   ]
  },
  {
   "cell_type": "markdown",
   "id": "0e75ec31-0bff-43c8-9319-97b7c6207e30",
   "metadata": {},
   "source": [
    "# Encapsulation"
   ]
  },
  {
   "cell_type": "code",
   "execution_count": 100,
   "id": "40e38acd-142b-4ac1-b5e9-18234ab29450",
   "metadata": {},
   "outputs": [],
   "source": [
    "class ATM:\n",
    "    def __init__(self, name, card_no, pin):\n",
    "        self.name = name\n",
    "        self.card_no = card_no   # Protected Property\n",
    "        self.pin = pin  # Private Property\n",
    "    def get_pin(self):\n",
    "      return self.pin\n",
    "machine1 = ATM(\"Amit\",123456789,1234)"
   ]
  },
  {
   "cell_type": "code",
   "execution_count": 101,
   "id": "2e645e4b-a6d2-4062-90f9-b7f9286ee6f5",
   "metadata": {},
   "outputs": [
    {
     "data": {
      "text/plain": [
       "1234"
      ]
     },
     "execution_count": 101,
     "metadata": {},
     "output_type": "execute_result"
    }
   ],
   "source": [
    "machine1.get_pin()"
   ]
  },
  {
   "cell_type": "markdown",
   "id": "16043c32-1728-4709-8439-35f7b1be9636",
   "metadata": {},
   "source": [
    "# polymorphism"
   ]
  },
  {
   "cell_type": "code",
   "execution_count": 112,
   "id": "2f39f169-4305-472a-979e-3e498265855b",
   "metadata": {},
   "outputs": [],
   "source": [
    "class Parent:\n",
    "    def __init__(self, name, surname):\n",
    "        self.name = name\n",
    "        self.surname = surname\n",
    "        \n",
    "    def show_details(self):\n",
    "        print(f\"My name is {self.name}  {self.surname}\")\n",
    "\n",
    "class Child(Parent):\n",
    "    def __init__(self, name, surname, age):\n",
    "        super().__init__(name, surname)\n",
    "        self.age = age\n",
    "        \n",
    "    def show_details(self):\n",
    "        print(f\"My name is {self.name}  {self.surname} and i am {self.age} years old\")\n",
    "        "
   ]
  },
  {
   "cell_type": "code",
   "execution_count": 114,
   "id": "98999f9b-150e-4b3b-a1c9-fdcbf051cbc3",
   "metadata": {},
   "outputs": [
    {
     "name": "stdout",
     "output_type": "stream",
     "text": [
      "My name is Amit  Kumar and i am 25 years old\n"
     ]
    }
   ],
   "source": [
    "child1 = Child(\"Amit\",\"Kumar\",25)\n",
    "child1.show_details()"
   ]
  },
  {
   "cell_type": "code",
   "execution_count": null,
   "id": "bb6d8d09-626f-4601-afcc-8590c5f88c1b",
   "metadata": {},
   "outputs": [],
   "source": [
    "class Mobile:\n",
    "    from abc import ABC, abstractmethod\n",
    "    class Mobile(ABC):\n",
    "        def __init__(delf, name, price):\n",
    "            self.name = name\n",
    "            self.price = price\n",
    "             @abstracemethod\n",
    "        def messaging(self):\n",
    "            pass\n",
    "            class Apple(Mobile)\n",
    "            def __init__(self, name, price, camera):\n",
    "                super().__init__(name, price)\n",
    "                self. camera = camera\n",
    "        def calling(self):\n",
    "            print(f\"{self.name} is calling\")\n",
    "        def messing(self"
   ]
  }
 ],
 "metadata": {
  "kernelspec": {
   "display_name": "Python 3 (ipykernel)",
   "language": "python",
   "name": "python3"
  },
  "language_info": {
   "codemirror_mode": {
    "name": "ipython",
    "version": 3
   },
   "file_extension": ".py",
   "mimetype": "text/x-python",
   "name": "python",
   "nbconvert_exporter": "python",
   "pygments_lexer": "ipython3",
   "version": "3.12.7"
  }
 },
 "nbformat": 4,
 "nbformat_minor": 5
}
