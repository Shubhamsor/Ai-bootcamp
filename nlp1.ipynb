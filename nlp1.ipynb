{
 "cells": [
  {
   "cell_type": "code",
   "execution_count": 1,
   "id": "7c29da45-d287-44c0-ad40-7cde98018b4a",
   "metadata": {},
   "outputs": [
    {
     "name": "stdout",
     "output_type": "stream",
     "text": [
      "Requirement already satisfied: nltk in c:\\users\\91814\\appdata\\local\\programs\\python\\python313\\lib\\site-packages (3.9.1)\n",
      "Requirement already satisfied: click in c:\\users\\91814\\appdata\\local\\programs\\python\\python313\\lib\\site-packages (from nltk) (8.1.8)\n",
      "Requirement already satisfied: joblib in c:\\users\\91814\\appdata\\local\\programs\\python\\python313\\lib\\site-packages (from nltk) (1.4.2)\n",
      "Requirement already satisfied: regex>=2021.8.3 in c:\\users\\91814\\appdata\\local\\programs\\python\\python313\\lib\\site-packages (from nltk) (2024.11.6)\n",
      "Requirement already satisfied: tqdm in c:\\users\\91814\\appdata\\local\\programs\\python\\python313\\lib\\site-packages (from nltk) (4.67.1)\n",
      "Requirement already satisfied: colorama in c:\\users\\91814\\appdata\\local\\programs\\python\\python313\\lib\\site-packages (from click->nltk) (0.4.6)\n"
     ]
    },
    {
     "name": "stderr",
     "output_type": "stream",
     "text": [
      "\n",
      "[notice] A new release of pip is available: 24.3.1 -> 25.0\n",
      "[notice] To update, run: C:\\Users\\91814\\AppData\\Local\\Programs\\Python\\Python313\\python.exe -m pip install --upgrade pip\n"
     ]
    }
   ],
   "source": [
    "!pip install nltk"
   ]
  },
  {
   "cell_type": "code",
   "execution_count": 2,
   "id": "12dc515c-9603-41a3-bce3-1075a970c0d0",
   "metadata": {},
   "outputs": [
    {
     "name": "stderr",
     "output_type": "stream",
     "text": [
      "[nltk_data] Downloading package punkt to\n",
      "[nltk_data]     C:\\Users\\91814\\AppData\\Roaming\\nltk_data...\n",
      "[nltk_data]   Package punkt is already up-to-date!\n",
      "[nltk_data] Downloading package stopwords to\n",
      "[nltk_data]     C:\\Users\\91814\\AppData\\Roaming\\nltk_data...\n",
      "[nltk_data]   Package stopwords is already up-to-date!\n",
      "[nltk_data] Downloading package wordnet to\n",
      "[nltk_data]     C:\\Users\\91814\\AppData\\Roaming\\nltk_data...\n",
      "[nltk_data]   Package wordnet is already up-to-date!\n",
      "[nltk_data] Downloading package averaged_perceptron_tagger to\n",
      "[nltk_data]     C:\\Users\\91814\\AppData\\Roaming\\nltk_data...\n",
      "[nltk_data]   Package averaged_perceptron_tagger is already up-to-\n",
      "[nltk_data]       date!\n",
      "[nltk_data] Downloading package punkt_tab to\n",
      "[nltk_data]     C:\\Users\\91814\\AppData\\Roaming\\nltk_data...\n",
      "[nltk_data]   Package punkt_tab is already up-to-date!\n",
      "[nltk_data] Downloading package averaged_perceptron_tagger_eng to\n",
      "[nltk_data]     C:\\Users\\91814\\AppData\\Roaming\\nltk_data...\n",
      "[nltk_data]   Package averaged_perceptron_tagger_eng is already up-to-\n",
      "[nltk_data]       date!\n"
     ]
    },
    {
     "data": {
      "text/plain": [
       "True"
      ]
     },
     "execution_count": 2,
     "metadata": {},
     "output_type": "execute_result"
    }
   ],
   "source": [
    "import nltk\n",
    "from nltk.tokenize import sent_tokenize, word_tokenize\n",
    "from nltk.corpus import stopwords\n",
    "from nltk.stem import PorterStemmer\n",
    "from nltk.stem import WordNetLemmatizer\n",
    "from nltk import pos_tag\n",
    "\n",
    "# Ensure you have the required NLTK data packages\n",
    "nltk.download('punkt')\n",
    "nltk.download('stopwords')\n",
    "nltk.download('wordnet')\n",
    "nltk.download('averaged_perceptron_tagger')\n",
    "nltk.download('punkt_tab')\n",
    "nltk.download('averaged_perceptron_tagger_eng')"
   ]
  },
  {
   "cell_type": "code",
   "execution_count": 3,
   "id": "681e904d-8e59-4f86-8163-02f22b9e7dfd",
   "metadata": {},
   "outputs": [],
   "source": [
    "# Load the text from a file\n",
    "with open('photography.txt', 'r') as file:\n",
    "    text = file.read()"
   ]
  },
  {
   "cell_type": "code",
   "execution_count": 4,
   "id": "7afd76d6-4510-4160-b34d-c98189b7f183",
   "metadata": {},
   "outputs": [
    {
     "name": "stdout",
     "output_type": "stream",
     "text": [
      "Sentences: ['The early morning sun cast a warm golden glow over the quiet town, signaling the start of a new day.', 'Birds chirped in the trees, their melodies blending with the soft rustling of leaves as a gentle breeze whispered through the streets.', 'People began to stir, stepping outside to greet the morning with a sense of anticipation.', 'There was something refreshing about these peaceful moments before the hustle and bustle of the day fully took hold, a brief pause that felt almost sacred.', 'In that stillness, everything seemed possible.']\n",
      "Words: ['The', 'early', 'morning', 'sun', 'cast', 'a', 'warm', 'golden', 'glow', 'over', 'the', 'quiet', 'town', ',', 'signaling', 'the', 'start', 'of', 'a', 'new', 'day', '.', 'Birds', 'chirped', 'in', 'the', 'trees', ',', 'their', 'melodies', 'blending', 'with', 'the', 'soft', 'rustling', 'of', 'leaves', 'as', 'a', 'gentle', 'breeze', 'whispered', 'through', 'the', 'streets', '.', 'People', 'began', 'to', 'stir', ',', 'stepping', 'outside', 'to', 'greet', 'the', 'morning', 'with', 'a', 'sense', 'of', 'anticipation', '.', 'There', 'was', 'something', 'refreshing', 'about', 'these', 'peaceful', 'moments', 'before', 'the', 'hustle', 'and', 'bustle', 'of', 'the', 'day', 'fully', 'took', 'hold', ',', 'a', 'brief', 'pause', 'that', 'felt', 'almost', 'sacred', '.', 'In', 'that', 'stillness', ',', 'everything', 'seemed', 'possible', '.']\n"
     ]
    }
   ],
   "source": [
    "# 1. Break the text into sentences and words\n",
    "sentences = sent_tokenize(text)\n",
    "words = word_tokenize(text)\n",
    "\n",
    "print(\"Sentences:\", sentences)\n",
    "print(\"Words:\", words)"
   ]
  },
  {
   "cell_type": "code",
   "execution_count": 5,
   "id": "ce85eb5f-af80-475d-a73c-d86123b3b773",
   "metadata": {},
   "outputs": [
    {
     "name": "stdout",
     "output_type": "stream",
     "text": [
      "Filtered Words: ['The', 'early', 'morning', 'sun', 'cast', 'warm', 'golden', 'glow', 'quiet', 'town', 'signaling', 'start', 'new', 'day', 'Birds', 'chirped', 'trees', 'melodies', 'blending', 'soft', 'rustling', 'leaves', 'gentle', 'breeze', 'whispered', 'streets', 'People', 'began', 'stir', 'stepping', 'outside', 'greet', 'morning', 'sense', 'anticipation', 'There', 'something', 'refreshing', 'peaceful', 'moments', 'hustle', 'bustle', 'day', 'fully', 'took', 'hold', 'brief', 'pause', 'felt', 'almost', 'sacred', 'In', 'stillness', 'everything', 'seemed', 'possible']\n"
     ]
    }
   ],
   "source": [
    "# 2. Remove common words (stop words)\n",
    "stop_words = set(stopwords.words('english'))\n",
    "filtered_words = [word for word in words if word.isalpha() and word not in stop_words]\n",
    "# The general syntax for a list comprehension is: [expression for item in iterable if condition]\n",
    "print(\"Filtered Words:\", filtered_words)"
   ]
  },
  {
   "cell_type": "code",
   "execution_count": 6,
   "id": "73c22fca-0a35-4eb9-a1a6-de61622a4582",
   "metadata": {},
   "outputs": [
    {
     "name": "stdout",
     "output_type": "stream",
     "text": [
      "Stemmed Words: ['the', 'earli', 'morn', 'sun', 'cast', 'warm', 'golden', 'glow', 'quiet', 'town', 'signal', 'start', 'new', 'day', 'bird', 'chirp', 'tree', 'melodi', 'blend', 'soft', 'rustl', 'leav', 'gentl', 'breez', 'whisper', 'street', 'peopl', 'began', 'stir', 'step', 'outsid', 'greet', 'morn', 'sens', 'anticip', 'there', 'someth', 'refresh', 'peac', 'moment', 'hustl', 'bustl', 'day', 'fulli', 'took', 'hold', 'brief', 'paus', 'felt', 'almost', 'sacr', 'in', 'still', 'everyth', 'seem', 'possibl']\n"
     ]
    }
   ],
   "source": [
    "# 3. Reduce words to their base form using stemming\n",
    "stemmer = PorterStemmer()\n",
    "stemmed_words = [stemmer.stem(word) for word in filtered_words]\n",
    "\n",
    "print(\"Stemmed Words:\", stemmed_words)"
   ]
  },
  {
   "cell_type": "code",
   "execution_count": 7,
   "id": "38c360c0-0367-43b0-8351-ec5815b392b3",
   "metadata": {},
   "outputs": [
    {
     "name": "stdout",
     "output_type": "stream",
     "text": [
      "Lemmatized Words: ['The', 'early', 'morning', 'sun', 'cast', 'warm', 'golden', 'glow', 'quiet', 'town', 'signaling', 'start', 'new', 'day', 'Birds', 'chirped', 'tree', 'melody', 'blending', 'soft', 'rustling', 'leaf', 'gentle', 'breeze', 'whispered', 'street', 'People', 'began', 'stir', 'stepping', 'outside', 'greet', 'morning', 'sense', 'anticipation', 'There', 'something', 'refreshing', 'peaceful', 'moment', 'hustle', 'bustle', 'day', 'fully', 'took', 'hold', 'brief', 'pause', 'felt', 'almost', 'sacred', 'In', 'stillness', 'everything', 'seemed', 'possible']\n"
     ]
    }
   ],
   "source": [
    "# 4. Perform lemmatization\n",
    "lemmatizer = WordNetLemmatizer()\n",
    "lemmatized_words = [lemmatizer.lemmatize(word) for word in filtered_words]\n",
    "\n",
    "print(\"Lemmatized Words:\", lemmatized_words)\n",
    "\n"
   ]
  },
  {
   "cell_type": "code",
   "execution_count": null,
   "id": "3d9ce21b-e975-4904-84b2-a2bbc95cdee1",
   "metadata": {},
   "outputs": [],
   "source": []
  }
 ],
 "metadata": {
  "kernelspec": {
   "display_name": "Python 3 (ipykernel)",
   "language": "python",
   "name": "python3"
  },
  "language_info": {
   "codemirror_mode": {
    "name": "ipython",
    "version": 3
   },
   "file_extension": ".py",
   "mimetype": "text/x-python",
   "name": "python",
   "nbconvert_exporter": "python",
   "pygments_lexer": "ipython3",
   "version": "3.13.1"
  }
 },
 "nbformat": 4,
 "nbformat_minor": 5
}
